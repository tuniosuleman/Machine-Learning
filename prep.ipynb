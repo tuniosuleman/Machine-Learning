{
 "cells": [
  {
   "cell_type": "markdown",
   "id": "69412ad3",
   "metadata": {},
   "source": [
    "# Preparation "
   ]
  },
  {
   "cell_type": "code",
   "execution_count": 4,
   "id": "fcf5fa45",
   "metadata": {},
   "outputs": [
    {
     "name": "stdout",
     "output_type": "stream",
     "text": [
      "Euclidean distance from x to y:  4.69041575982343\n"
     ]
    }
   ],
   "source": [
    "import math\n",
    "# Example points in 3-dimensional space...\n",
    "x = (5, 6, 7)\n",
    "y = (8, 9, 9)\n",
    "distance = math.sqrt(sum([(a - b) ** 2 for a, b in zip(x, y)]))\n",
    "print(\"Euclidean distance from x to y: \",distance)"
   ]
  },
  {
   "cell_type": "markdown",
   "id": "ea79720c",
   "metadata": {},
   "source": [
    "# SVM with Grid Search Method"
   ]
  },
  {
   "cell_type": "code",
   "execution_count": 1,
   "id": "28f47a2a",
   "metadata": {},
   "outputs": [],
   "source": [
    "from sklearn.svm import SVC\n",
    "from sklearn.model_selection import train_test_split\n",
    "from sklearn.metrics import classification_report\n",
    "import pandas as pd \n",
    "import numpy as np"
   ]
  },
  {
   "cell_type": "code",
   "execution_count": 3,
   "id": "ce475745",
   "metadata": {},
   "outputs": [],
   "source": [
    "df = pd.read_csv('titanic_clean1.csv')"
   ]
  },
  {
   "cell_type": "code",
   "execution_count": 4,
   "id": "995241ef",
   "metadata": {},
   "outputs": [],
   "source": [
    "x = df.drop(['Survived', 'Unnamed: 0'], axis =1)\n",
    "y = df['Survived']"
   ]
  },
  {
   "cell_type": "code",
   "execution_count": 18,
   "id": "b538d39d",
   "metadata": {},
   "outputs": [],
   "source": [
    "X_train, X_test, y_train, y_test = train_test_split(x, np.ravel(y),test_size = 0.30, random_state = 22)"
   ]
  },
  {
   "cell_type": "code",
   "execution_count": null,
   "id": "932ca67f",
   "metadata": {},
   "outputs": [],
   "source": []
  },
  {
   "cell_type": "code",
   "execution_count": 19,
   "id": "4ac1c4ea",
   "metadata": {},
   "outputs": [
    {
     "data": {
      "text/plain": [
       "SVC()"
      ]
     },
     "execution_count": 19,
     "metadata": {},
     "output_type": "execute_result"
    }
   ],
   "source": [
    "# mdelsvm = SVC(kernel='rbf', random_state = 1)\n",
    "model = SVC() # model = SVC(C=1000, gamma=0.001, kernel='rbf')\n",
    "model.fit(X_train, y_train)"
   ]
  },
  {
   "cell_type": "code",
   "execution_count": 20,
   "id": "6b02df81",
   "metadata": {},
   "outputs": [
    {
     "name": "stdout",
     "output_type": "stream",
     "text": [
      "              precision    recall  f1-score   support\n",
      "\n",
      "           0       0.58      0.94      0.72       219\n",
      "           1       0.65      0.14      0.23       174\n",
      "\n",
      "    accuracy                           0.59       393\n",
      "   macro avg       0.61      0.54      0.47       393\n",
      "weighted avg       0.61      0.59      0.50       393\n",
      "\n"
     ]
    }
   ],
   "source": [
    "predictions = model.predict(X_test)\n",
    "print(classification_report(y_test, predictions))"
   ]
  },
  {
   "cell_type": "code",
   "execution_count": 8,
   "id": "1eb626a3",
   "metadata": {},
   "outputs": [],
   "source": [
    "from sklearn.model_selection import GridSearchCV"
   ]
  },
  {
   "cell_type": "code",
   "execution_count": 9,
   "id": "cbd9210f",
   "metadata": {},
   "outputs": [],
   "source": [
    "space = dict()\n",
    "space['kernel'] = ['rbf']\n",
    "space['gamma'] = [1, 0.1, 0.01, 0.001, 0.0001]\n",
    "space['C'] = [0.1, 1, 10, 100, 1000]"
   ]
  },
  {
   "cell_type": "code",
   "execution_count": 10,
   "id": "74ef73b1",
   "metadata": {},
   "outputs": [],
   "source": [
    "search = GridSearchCV(model, space, scoring='accuracy', n_jobs=-1)"
   ]
  },
  {
   "cell_type": "code",
   "execution_count": 11,
   "id": "99a8aad9",
   "metadata": {},
   "outputs": [
    {
     "name": "stdout",
     "output_type": "stream",
     "text": [
      "Best Score: 0.7049896171507122\n",
      "Best Hyperparameters: {'C': 1000, 'gamma': 0.001, 'kernel': 'rbf'}\n"
     ]
    }
   ],
   "source": [
    "result = search.fit(x, y)\n",
    "# summarize result\n",
    "print('Best Score: %s' % result.best_score_)\n",
    "print('Best Hyperparameters: %s' % result.best_params_)"
   ]
  },
  {
   "cell_type": "markdown",
   "id": "e7040b20",
   "metadata": {},
   "source": [
    "# Building model from scratch"
   ]
  },
  {
   "cell_type": "code",
   "execution_count": 364,
   "id": "95a9a569",
   "metadata": {},
   "outputs": [],
   "source": [
    "import numpy as np\n",
    "np.random.seed(0)\n",
    "\n",
    "d1 = np.random.randint(100, size=(1,100))\n",
    "d2 = np.random.randint(200, size=(1,100))\n",
    "d3 = np.random.randint(300, size=(1,100))\n",
    "\n",
    "tc = np.random.randint(2, size=(1,100)).transpose()"
   ]
  },
  {
   "cell_type": "code",
   "execution_count": 365,
   "id": "0e8f9907",
   "metadata": {},
   "outputs": [],
   "source": [
    "d1t = d1.transpose()\n",
    "d2t = d2.transpose()\n",
    "d3t = d3.transpose()"
   ]
  },
  {
   "cell_type": "code",
   "execution_count": 366,
   "id": "6287b045",
   "metadata": {},
   "outputs": [
    {
     "data": {
      "text/plain": [
       "array([[44, 47, 64, 67, 67,  9, 83, 21, 36, 87, 70, 88, 88, 12, 58, 65,\n",
       "        39, 87, 46, 88, 81, 37, 25, 77, 72,  9, 20, 80, 69, 79, 47, 64,\n",
       "        82, 99, 88, 49, 29, 19, 19, 14, 39, 32, 65,  9, 57, 32, 31, 74,\n",
       "        23, 35, 75, 55, 28, 34,  0,  0, 36, 53,  5, 38, 17, 79,  4, 42,\n",
       "        58, 31,  1, 65, 41, 57, 35, 11, 46, 82, 91,  0, 14, 99, 53, 12,\n",
       "        42, 84, 75, 68,  6, 68, 47,  3, 76, 52, 78, 15, 20, 99, 58, 23,\n",
       "        79, 13, 85, 48]])"
      ]
     },
     "execution_count": 366,
     "metadata": {},
     "output_type": "execute_result"
    }
   ],
   "source": [
    "d1"
   ]
  },
  {
   "cell_type": "code",
   "execution_count": 367,
   "id": "40903865",
   "metadata": {},
   "outputs": [
    {
     "data": {
      "text/plain": [
       "((1, 100), (100, 1), (100, 1))"
      ]
     },
     "execution_count": 367,
     "metadata": {},
     "output_type": "execute_result"
    }
   ],
   "source": [
    "d1.shape, d1t.shape, tc.shape"
   ]
  },
  {
   "cell_type": "code",
   "execution_count": 368,
   "id": "9ceafefa",
   "metadata": {},
   "outputs": [],
   "source": [
    "concat = np.concatenate((d1t, d2t, d3t), axis=1)"
   ]
  },
  {
   "cell_type": "code",
   "execution_count": 369,
   "id": "518a2bf4",
   "metadata": {},
   "outputs": [
    {
     "data": {
      "text/plain": [
       "(100, 3)"
      ]
     },
     "execution_count": 369,
     "metadata": {},
     "output_type": "execute_result"
    }
   ],
   "source": [
    "concat.shape"
   ]
  },
  {
   "cell_type": "code",
   "execution_count": 370,
   "id": "842b8a70",
   "metadata": {},
   "outputs": [],
   "source": [
    "df = pd.DataFrame(concat, columns=['a', 'b', 'c'])"
   ]
  },
  {
   "cell_type": "code",
   "execution_count": 371,
   "id": "df0eca83",
   "metadata": {},
   "outputs": [
    {
     "data": {
      "text/html": [
       "<div>\n",
       "<style scoped>\n",
       "    .dataframe tbody tr th:only-of-type {\n",
       "        vertical-align: middle;\n",
       "    }\n",
       "\n",
       "    .dataframe tbody tr th {\n",
       "        vertical-align: top;\n",
       "    }\n",
       "\n",
       "    .dataframe thead th {\n",
       "        text-align: right;\n",
       "    }\n",
       "</style>\n",
       "<table border=\"1\" class=\"dataframe\">\n",
       "  <thead>\n",
       "    <tr style=\"text-align: right;\">\n",
       "      <th></th>\n",
       "      <th>a</th>\n",
       "      <th>b</th>\n",
       "      <th>c</th>\n",
       "    </tr>\n",
       "  </thead>\n",
       "  <tbody>\n",
       "    <tr>\n",
       "      <th>0</th>\n",
       "      <td>44</td>\n",
       "      <td>49</td>\n",
       "      <td>117</td>\n",
       "    </tr>\n",
       "    <tr>\n",
       "      <th>1</th>\n",
       "      <td>47</td>\n",
       "      <td>69</td>\n",
       "      <td>83</td>\n",
       "    </tr>\n",
       "    <tr>\n",
       "      <th>2</th>\n",
       "      <td>64</td>\n",
       "      <td>169</td>\n",
       "      <td>161</td>\n",
       "    </tr>\n",
       "    <tr>\n",
       "      <th>3</th>\n",
       "      <td>67</td>\n",
       "      <td>163</td>\n",
       "      <td>228</td>\n",
       "    </tr>\n",
       "    <tr>\n",
       "      <th>4</th>\n",
       "      <td>67</td>\n",
       "      <td>192</td>\n",
       "      <td>251</td>\n",
       "    </tr>\n",
       "    <tr>\n",
       "      <th>...</th>\n",
       "      <td>...</td>\n",
       "      <td>...</td>\n",
       "      <td>...</td>\n",
       "    </tr>\n",
       "    <tr>\n",
       "      <th>95</th>\n",
       "      <td>23</td>\n",
       "      <td>152</td>\n",
       "      <td>111</td>\n",
       "    </tr>\n",
       "    <tr>\n",
       "      <th>96</th>\n",
       "      <td>79</td>\n",
       "      <td>157</td>\n",
       "      <td>91</td>\n",
       "    </tr>\n",
       "    <tr>\n",
       "      <th>97</th>\n",
       "      <td>13</td>\n",
       "      <td>149</td>\n",
       "      <td>39</td>\n",
       "    </tr>\n",
       "    <tr>\n",
       "      <th>98</th>\n",
       "      <td>85</td>\n",
       "      <td>110</td>\n",
       "      <td>150</td>\n",
       "    </tr>\n",
       "    <tr>\n",
       "      <th>99</th>\n",
       "      <td>48</td>\n",
       "      <td>25</td>\n",
       "      <td>145</td>\n",
       "    </tr>\n",
       "  </tbody>\n",
       "</table>\n",
       "<p>100 rows × 3 columns</p>\n",
       "</div>"
      ],
      "text/plain": [
       "     a    b    c\n",
       "0   44   49  117\n",
       "1   47   69   83\n",
       "2   64  169  161\n",
       "3   67  163  228\n",
       "4   67  192  251\n",
       "..  ..  ...  ...\n",
       "95  23  152  111\n",
       "96  79  157   91\n",
       "97  13  149   39\n",
       "98  85  110  150\n",
       "99  48   25  145\n",
       "\n",
       "[100 rows x 3 columns]"
      ]
     },
     "execution_count": 371,
     "metadata": {},
     "output_type": "execute_result"
    }
   ],
   "source": [
    "df"
   ]
  },
  {
   "cell_type": "code",
   "execution_count": 372,
   "id": "bf8778a2",
   "metadata": {},
   "outputs": [],
   "source": [
    "df['tc'] = tc"
   ]
  },
  {
   "cell_type": "code",
   "execution_count": 373,
   "id": "9c2825f7",
   "metadata": {},
   "outputs": [
    {
     "data": {
      "text/html": [
       "<div>\n",
       "<style scoped>\n",
       "    .dataframe tbody tr th:only-of-type {\n",
       "        vertical-align: middle;\n",
       "    }\n",
       "\n",
       "    .dataframe tbody tr th {\n",
       "        vertical-align: top;\n",
       "    }\n",
       "\n",
       "    .dataframe thead th {\n",
       "        text-align: right;\n",
       "    }\n",
       "</style>\n",
       "<table border=\"1\" class=\"dataframe\">\n",
       "  <thead>\n",
       "    <tr style=\"text-align: right;\">\n",
       "      <th></th>\n",
       "      <th>a</th>\n",
       "      <th>b</th>\n",
       "      <th>c</th>\n",
       "      <th>tc</th>\n",
       "    </tr>\n",
       "  </thead>\n",
       "  <tbody>\n",
       "    <tr>\n",
       "      <th>0</th>\n",
       "      <td>44</td>\n",
       "      <td>49</td>\n",
       "      <td>117</td>\n",
       "      <td>0</td>\n",
       "    </tr>\n",
       "    <tr>\n",
       "      <th>1</th>\n",
       "      <td>47</td>\n",
       "      <td>69</td>\n",
       "      <td>83</td>\n",
       "      <td>1</td>\n",
       "    </tr>\n",
       "    <tr>\n",
       "      <th>2</th>\n",
       "      <td>64</td>\n",
       "      <td>169</td>\n",
       "      <td>161</td>\n",
       "      <td>0</td>\n",
       "    </tr>\n",
       "    <tr>\n",
       "      <th>3</th>\n",
       "      <td>67</td>\n",
       "      <td>163</td>\n",
       "      <td>228</td>\n",
       "      <td>0</td>\n",
       "    </tr>\n",
       "    <tr>\n",
       "      <th>4</th>\n",
       "      <td>67</td>\n",
       "      <td>192</td>\n",
       "      <td>251</td>\n",
       "      <td>1</td>\n",
       "    </tr>\n",
       "    <tr>\n",
       "      <th>...</th>\n",
       "      <td>...</td>\n",
       "      <td>...</td>\n",
       "      <td>...</td>\n",
       "      <td>...</td>\n",
       "    </tr>\n",
       "    <tr>\n",
       "      <th>95</th>\n",
       "      <td>23</td>\n",
       "      <td>152</td>\n",
       "      <td>111</td>\n",
       "      <td>0</td>\n",
       "    </tr>\n",
       "    <tr>\n",
       "      <th>96</th>\n",
       "      <td>79</td>\n",
       "      <td>157</td>\n",
       "      <td>91</td>\n",
       "      <td>1</td>\n",
       "    </tr>\n",
       "    <tr>\n",
       "      <th>97</th>\n",
       "      <td>13</td>\n",
       "      <td>149</td>\n",
       "      <td>39</td>\n",
       "      <td>0</td>\n",
       "    </tr>\n",
       "    <tr>\n",
       "      <th>98</th>\n",
       "      <td>85</td>\n",
       "      <td>110</td>\n",
       "      <td>150</td>\n",
       "      <td>1</td>\n",
       "    </tr>\n",
       "    <tr>\n",
       "      <th>99</th>\n",
       "      <td>48</td>\n",
       "      <td>25</td>\n",
       "      <td>145</td>\n",
       "      <td>0</td>\n",
       "    </tr>\n",
       "  </tbody>\n",
       "</table>\n",
       "<p>100 rows × 4 columns</p>\n",
       "</div>"
      ],
      "text/plain": [
       "     a    b    c  tc\n",
       "0   44   49  117   0\n",
       "1   47   69   83   1\n",
       "2   64  169  161   0\n",
       "3   67  163  228   0\n",
       "4   67  192  251   1\n",
       "..  ..  ...  ...  ..\n",
       "95  23  152  111   0\n",
       "96  79  157   91   1\n",
       "97  13  149   39   0\n",
       "98  85  110  150   1\n",
       "99  48   25  145   0\n",
       "\n",
       "[100 rows x 4 columns]"
      ]
     },
     "execution_count": 373,
     "metadata": {},
     "output_type": "execute_result"
    }
   ],
   "source": [
    "df"
   ]
  },
  {
   "cell_type": "code",
   "execution_count": 374,
   "id": "cab30870",
   "metadata": {},
   "outputs": [],
   "source": [
    "xt = df.drop(['tc'], axis =1)\n",
    "yt = df['tc']"
   ]
  },
  {
   "cell_type": "code",
   "execution_count": 375,
   "id": "6900a70c",
   "metadata": {},
   "outputs": [],
   "source": [
    "trainX, testX, trainY, testY = train_test_split(xt, np.ravel(yt),test_size = 0.30, random_state = 0)"
   ]
  },
  {
   "cell_type": "code",
   "execution_count": 376,
   "id": "ec3d1e73",
   "metadata": {},
   "outputs": [
    {
     "data": {
      "text/plain": [
       "SVC()"
      ]
     },
     "execution_count": 376,
     "metadata": {},
     "output_type": "execute_result"
    }
   ],
   "source": [
    "# mdelsvm = SVC(kernel='rbf', random_state = 1)\n",
    "model = SVC() # model = SVC(C=1000, gamma=0.001, kernel='rbf')\n",
    "model.fit(trainX, trainY)"
   ]
  },
  {
   "cell_type": "code",
   "execution_count": 377,
   "id": "7c62abe7",
   "metadata": {},
   "outputs": [
    {
     "name": "stdout",
     "output_type": "stream",
     "text": [
      "              precision    recall  f1-score   support\n",
      "\n",
      "           0       0.36      0.25      0.30        16\n",
      "           1       0.37      0.50      0.42        14\n",
      "\n",
      "    accuracy                           0.37        30\n",
      "   macro avg       0.37      0.38      0.36        30\n",
      "weighted avg       0.37      0.37      0.36        30\n",
      "\n"
     ]
    }
   ],
   "source": [
    "predictionS = model.predict(testX)\n",
    "print(classification_report(testY, predictionS))"
   ]
  },
  {
   "cell_type": "code",
   "execution_count": 378,
   "id": "9cda7b8c",
   "metadata": {},
   "outputs": [
    {
     "name": "stdout",
     "output_type": "stream",
     "text": [
      "Best Score: 0.5399999999999999\n",
      "Best Hyperparameters: {'C': 1000, 'gamma': 0.0001, 'kernel': 'rbf'}\n"
     ]
    }
   ],
   "source": [
    "result = search.fit(xt, yt)\n",
    "# summarize result\n",
    "print('Best Score: %s' % result.best_score_)\n",
    "print('Best Hyperparameters: %s' % result.best_params_)"
   ]
  },
  {
   "cell_type": "code",
   "execution_count": null,
   "id": "91392155",
   "metadata": {},
   "outputs": [],
   "source": []
  },
  {
   "cell_type": "code",
   "execution_count": null,
   "id": "ba947dd2",
   "metadata": {},
   "outputs": [],
   "source": []
  }
 ],
 "metadata": {
  "kernelspec": {
   "display_name": "Python 3",
   "language": "python",
   "name": "python3"
  },
  "language_info": {
   "codemirror_mode": {
    "name": "ipython",
    "version": 3
   },
   "file_extension": ".py",
   "mimetype": "text/x-python",
   "name": "python",
   "nbconvert_exporter": "python",
   "pygments_lexer": "ipython3",
   "version": "3.8.8"
  }
 },
 "nbformat": 4,
 "nbformat_minor": 5
}

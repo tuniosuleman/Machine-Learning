{
 "cells": [
  {
   "cell_type": "markdown",
   "id": "f7c288df",
   "metadata": {},
   "source": [
    "# Hyper parameter Optimization"
   ]
  },
  {
   "cell_type": "code",
   "execution_count": 33,
   "id": "b9631d8d",
   "metadata": {},
   "outputs": [],
   "source": [
    "import numpy as np\n",
    "import pandas as pd\n",
    "from sklearn.linear_model import LogisticRegression\n",
    "from sklearn.model_selection import RepeatedStratifiedKFold"
   ]
  },
  {
   "cell_type": "code",
   "execution_count": 34,
   "id": "0159861c",
   "metadata": {},
   "outputs": [],
   "source": [
    "df = pd.read_csv('titanic_clean1.csv')"
   ]
  },
  {
   "cell_type": "code",
   "execution_count": 35,
   "id": "ef6c2824",
   "metadata": {},
   "outputs": [
    {
     "data": {
      "text/html": [
       "<div>\n",
       "<style scoped>\n",
       "    .dataframe tbody tr th:only-of-type {\n",
       "        vertical-align: middle;\n",
       "    }\n",
       "\n",
       "    .dataframe tbody tr th {\n",
       "        vertical-align: top;\n",
       "    }\n",
       "\n",
       "    .dataframe thead th {\n",
       "        text-align: right;\n",
       "    }\n",
       "</style>\n",
       "<table border=\"1\" class=\"dataframe\">\n",
       "  <thead>\n",
       "    <tr style=\"text-align: right;\">\n",
       "      <th></th>\n",
       "      <th>Unnamed: 0</th>\n",
       "      <th>Pclass</th>\n",
       "      <th>Age</th>\n",
       "      <th>SibSp</th>\n",
       "      <th>Parch</th>\n",
       "      <th>Fare</th>\n",
       "      <th>Embarked</th>\n",
       "      <th>Title</th>\n",
       "      <th>Gen_male</th>\n",
       "      <th>Survived</th>\n",
       "    </tr>\n",
       "  </thead>\n",
       "  <tbody>\n",
       "    <tr>\n",
       "      <th>0</th>\n",
       "      <td>0</td>\n",
       "      <td>3</td>\n",
       "      <td>22.000000</td>\n",
       "      <td>1</td>\n",
       "      <td>0</td>\n",
       "      <td>7.2500</td>\n",
       "      <td>0</td>\n",
       "      <td>0</td>\n",
       "      <td>1</td>\n",
       "      <td>0</td>\n",
       "    </tr>\n",
       "    <tr>\n",
       "      <th>1</th>\n",
       "      <td>1</td>\n",
       "      <td>1</td>\n",
       "      <td>38.000000</td>\n",
       "      <td>1</td>\n",
       "      <td>0</td>\n",
       "      <td>71.2833</td>\n",
       "      <td>1</td>\n",
       "      <td>1</td>\n",
       "      <td>0</td>\n",
       "      <td>1</td>\n",
       "    </tr>\n",
       "    <tr>\n",
       "      <th>2</th>\n",
       "      <td>2</td>\n",
       "      <td>3</td>\n",
       "      <td>26.000000</td>\n",
       "      <td>0</td>\n",
       "      <td>0</td>\n",
       "      <td>7.9250</td>\n",
       "      <td>0</td>\n",
       "      <td>2</td>\n",
       "      <td>0</td>\n",
       "      <td>1</td>\n",
       "    </tr>\n",
       "    <tr>\n",
       "      <th>3</th>\n",
       "      <td>3</td>\n",
       "      <td>1</td>\n",
       "      <td>35.000000</td>\n",
       "      <td>1</td>\n",
       "      <td>0</td>\n",
       "      <td>53.1000</td>\n",
       "      <td>0</td>\n",
       "      <td>1</td>\n",
       "      <td>0</td>\n",
       "      <td>1</td>\n",
       "    </tr>\n",
       "    <tr>\n",
       "      <th>4</th>\n",
       "      <td>4</td>\n",
       "      <td>3</td>\n",
       "      <td>35.000000</td>\n",
       "      <td>0</td>\n",
       "      <td>0</td>\n",
       "      <td>8.0500</td>\n",
       "      <td>0</td>\n",
       "      <td>0</td>\n",
       "      <td>1</td>\n",
       "      <td>0</td>\n",
       "    </tr>\n",
       "    <tr>\n",
       "      <th>...</th>\n",
       "      <td>...</td>\n",
       "      <td>...</td>\n",
       "      <td>...</td>\n",
       "      <td>...</td>\n",
       "      <td>...</td>\n",
       "      <td>...</td>\n",
       "      <td>...</td>\n",
       "      <td>...</td>\n",
       "      <td>...</td>\n",
       "      <td>...</td>\n",
       "    </tr>\n",
       "    <tr>\n",
       "      <th>1304</th>\n",
       "      <td>413</td>\n",
       "      <td>3</td>\n",
       "      <td>32.252151</td>\n",
       "      <td>0</td>\n",
       "      <td>0</td>\n",
       "      <td>8.0500</td>\n",
       "      <td>0</td>\n",
       "      <td>0</td>\n",
       "      <td>1</td>\n",
       "      <td>1</td>\n",
       "    </tr>\n",
       "    <tr>\n",
       "      <th>1305</th>\n",
       "      <td>414</td>\n",
       "      <td>1</td>\n",
       "      <td>39.000000</td>\n",
       "      <td>0</td>\n",
       "      <td>0</td>\n",
       "      <td>108.9000</td>\n",
       "      <td>1</td>\n",
       "      <td>1</td>\n",
       "      <td>0</td>\n",
       "      <td>0</td>\n",
       "    </tr>\n",
       "    <tr>\n",
       "      <th>1306</th>\n",
       "      <td>415</td>\n",
       "      <td>3</td>\n",
       "      <td>38.500000</td>\n",
       "      <td>0</td>\n",
       "      <td>0</td>\n",
       "      <td>7.2500</td>\n",
       "      <td>0</td>\n",
       "      <td>0</td>\n",
       "      <td>1</td>\n",
       "      <td>1</td>\n",
       "    </tr>\n",
       "    <tr>\n",
       "      <th>1307</th>\n",
       "      <td>416</td>\n",
       "      <td>3</td>\n",
       "      <td>32.252151</td>\n",
       "      <td>0</td>\n",
       "      <td>0</td>\n",
       "      <td>8.0500</td>\n",
       "      <td>0</td>\n",
       "      <td>0</td>\n",
       "      <td>1</td>\n",
       "      <td>1</td>\n",
       "    </tr>\n",
       "    <tr>\n",
       "      <th>1308</th>\n",
       "      <td>417</td>\n",
       "      <td>3</td>\n",
       "      <td>5.482642</td>\n",
       "      <td>1</td>\n",
       "      <td>1</td>\n",
       "      <td>22.3583</td>\n",
       "      <td>1</td>\n",
       "      <td>1</td>\n",
       "      <td>1</td>\n",
       "      <td>0</td>\n",
       "    </tr>\n",
       "  </tbody>\n",
       "</table>\n",
       "<p>1309 rows × 10 columns</p>\n",
       "</div>"
      ],
      "text/plain": [
       "      Unnamed: 0  Pclass        Age  SibSp  Parch      Fare  Embarked  Title  \\\n",
       "0              0       3  22.000000      1      0    7.2500         0      0   \n",
       "1              1       1  38.000000      1      0   71.2833         1      1   \n",
       "2              2       3  26.000000      0      0    7.9250         0      2   \n",
       "3              3       1  35.000000      1      0   53.1000         0      1   \n",
       "4              4       3  35.000000      0      0    8.0500         0      0   \n",
       "...          ...     ...        ...    ...    ...       ...       ...    ...   \n",
       "1304         413       3  32.252151      0      0    8.0500         0      0   \n",
       "1305         414       1  39.000000      0      0  108.9000         1      1   \n",
       "1306         415       3  38.500000      0      0    7.2500         0      0   \n",
       "1307         416       3  32.252151      0      0    8.0500         0      0   \n",
       "1308         417       3   5.482642      1      1   22.3583         1      1   \n",
       "\n",
       "      Gen_male  Survived  \n",
       "0            1         0  \n",
       "1            0         1  \n",
       "2            0         1  \n",
       "3            0         1  \n",
       "4            1         0  \n",
       "...        ...       ...  \n",
       "1304         1         1  \n",
       "1305         0         0  \n",
       "1306         1         1  \n",
       "1307         1         1  \n",
       "1308         1         0  \n",
       "\n",
       "[1309 rows x 10 columns]"
      ]
     },
     "execution_count": 35,
     "metadata": {},
     "output_type": "execute_result"
    }
   ],
   "source": [
    "df"
   ]
  },
  {
   "cell_type": "code",
   "execution_count": 36,
   "id": "707343d9",
   "metadata": {},
   "outputs": [],
   "source": [
    "x = df.drop(['Survived', 'Unnamed: 0'], axis =1)\n",
    "y = df['Survived']"
   ]
  },
  {
   "cell_type": "code",
   "execution_count": 37,
   "id": "cacb5746",
   "metadata": {},
   "outputs": [
    {
     "name": "stdout",
     "output_type": "stream",
     "text": [
      "(1309, 8) (1309,)\n"
     ]
    }
   ],
   "source": [
    " print(x.shape, y.shape)"
   ]
  },
  {
   "cell_type": "code",
   "execution_count": 38,
   "id": "61c394e7",
   "metadata": {},
   "outputs": [],
   "source": [
    "model = LogisticRegression()"
   ]
  },
  {
   "cell_type": "code",
   "execution_count": 39,
   "id": "a78ae5b0",
   "metadata": {},
   "outputs": [],
   "source": [
    "cv = RepeatedStratifiedKFold(n_splits=10, n_repeats=3, random_state=1)"
   ]
  },
  {
   "cell_type": "code",
   "execution_count": 56,
   "id": "508313b5",
   "metadata": {},
   "outputs": [
    {
     "data": {
      "text/plain": [
       "\"LogisticRegression(penalty='l2', *, dual=False, tol=0.0001, C=1.0, fit_intercept=True, intercept_scaling=1, \\n                   class_weight=None, random_state=None, solver='lbfgs', max_iter=100, multi_class='auto', \\n                   verbose=0, warm_start=False, n_jobs=None, l1_ratio=None)\\n\""
      ]
     },
     "execution_count": 56,
     "metadata": {},
     "output_type": "execute_result"
    }
   ],
   "source": [
    "#LogisticRegression Paramters\n",
    "\n",
    "\"\"\"LogisticRegression(penalty='l2', *, dual=False, tol=0.0001, C=1.0, fit_intercept=True, intercept_scaling=1, \n",
    "                   class_weight=None, random_state=None, solver='lbfgs', max_iter=100, multi_class='auto', \n",
    "                   verbose=0, warm_start=False, n_jobs=None, l1_ratio=None)\n",
    "\"\"\""
   ]
  },
  {
   "cell_type": "markdown",
   "id": "674bb43a",
   "metadata": {},
   "source": [
    "# Random Search for Classification"
   ]
  },
  {
   "cell_type": "code",
   "execution_count": 48,
   "id": "f469f0de",
   "metadata": {},
   "outputs": [],
   "source": [
    "# define search space\n",
    "from scipy.stats import loguniform\n",
    "space = dict()\n",
    "space['solver'] = ['newton-cg', 'lbfgs', 'liblinear']\n",
    "space['penalty'] = ['none', 'l1', 'l2', 'elasticnet']\n",
    "space['C'] = loguniform(1e-5, 100)"
   ]
  },
  {
   "cell_type": "code",
   "execution_count": 49,
   "id": "f648e35f",
   "metadata": {},
   "outputs": [
    {
     "name": "stdout",
     "output_type": "stream",
     "text": [
      "Best Score: 0.7025484439224898\n",
      "Best Hyperparameters: {'C': 0.008301451461243866, 'penalty': 'none', 'solver': 'newton-cg'}\n"
     ]
    },
    {
     "name": "stderr",
     "output_type": "stream",
     "text": [
      "C:\\Users\\Public\\anaconda3\\lib\\site-packages\\sklearn\\model_selection\\_search.py:918: UserWarning: One or more of the test scores are non-finite: [0.70254844        nan 0.70026228]\n",
      "  warnings.warn(\n",
      "C:\\Users\\Public\\anaconda3\\lib\\site-packages\\sklearn\\linear_model\\_logistic.py:1322: UserWarning: Setting penalty='none' will ignore the C and l1_ratio parameters\n",
      "  warnings.warn(\n"
     ]
    }
   ],
   "source": [
    "from sklearn.model_selection import RandomizedSearchCV\n",
    "search = RandomizedSearchCV(model, space, n_iter=3, scoring='accuracy', n_jobs=-1, cv=cv, random_state=1)\n",
    "# execute search\n",
    "result = search.fit(x, y)\n",
    "# summarize result\n",
    "print('Best Score: %s' % result.best_score_)\n",
    "print('Best Hyperparameters: %s' % result.best_params_)"
   ]
  },
  {
   "cell_type": "markdown",
   "id": "a731d2e8",
   "metadata": {},
   "source": [
    "# Grid Search for Classification"
   ]
  },
  {
   "cell_type": "code",
   "execution_count": 50,
   "id": "4d428336",
   "metadata": {},
   "outputs": [],
   "source": [
    "# define search space\n",
    "space = dict()\n",
    "space['solver'] = ['newton-cg', 'lbfgs', 'liblinear']\n",
    "space['penalty'] = ['none', 'l1', 'l2', 'elasticnet']\n",
    "space['C'] = [1e-5, 1e-4, 1e-3, 1e-2, 1e-1, 1, 10, 100]"
   ]
  },
  {
   "cell_type": "code",
   "execution_count": 53,
   "id": "67920d58",
   "metadata": {},
   "outputs": [],
   "source": [
    "# define search\n",
    "from sklearn.model_selection import GridSearchCV\n",
    "search = GridSearchCV(model, space, scoring='accuracy', n_jobs=-1, cv=cv)"
   ]
  },
  {
   "cell_type": "code",
   "execution_count": 54,
   "id": "70074f90",
   "metadata": {},
   "outputs": [
    {
     "name": "stdout",
     "output_type": "stream",
     "text": [
      "Best Score: 0.7028009395184968\n",
      "Best Hyperparameters: {'C': 1, 'penalty': 'l2', 'solver': 'newton-cg'}\n"
     ]
    },
    {
     "name": "stderr",
     "output_type": "stream",
     "text": [
      "C:\\Users\\Public\\anaconda3\\lib\\site-packages\\sklearn\\model_selection\\_search.py:918: UserWarning: One or more of the test scores are non-finite: [0.70254844 0.70026228        nan        nan        nan 0.57982971\n",
      " 0.60503817 0.60503817 0.60758465        nan        nan        nan\n",
      " 0.70254844 0.70026228        nan        nan        nan 0.57982971\n",
      " 0.60579565 0.60579565 0.60886083        nan        nan        nan\n",
      " 0.70254844 0.70026228        nan        nan        nan 0.60325895\n",
      " 0.6368624  0.63711685 0.63915052        nan        nan        nan\n",
      " 0.70254844 0.70026228        nan        nan        nan 0.62185359\n",
      " 0.69058133 0.69058133 0.68217851        nan        nan        nan\n",
      " 0.70254844 0.70026228        nan        nan        nan 0.69364259\n",
      " 0.70076727 0.69975142 0.69924643        nan        nan        nan\n",
      " 0.70254844 0.70026228        nan        nan        nan 0.70178509\n",
      " 0.70280094 0.70051086 0.70102173        nan        nan        nan\n",
      " 0.70254844 0.70026228        nan        nan        nan 0.70254844\n",
      " 0.70229399 0.69949697 0.70203758        nan        nan        nan\n",
      " 0.70254844 0.70026228        nan        nan        nan 0.70254844\n",
      " 0.70254844 0.70000391 0.70254844        nan        nan        nan]\n",
      "  warnings.warn(\n"
     ]
    }
   ],
   "source": [
    "result = search.fit(x, y)\n",
    "# summarize result\n",
    "print('Best Score: %s' % result.best_score_)\n",
    "print('Best Hyperparameters: %s' % result.best_params_)"
   ]
  }
 ],
 "metadata": {
  "kernelspec": {
   "display_name": "Python 3",
   "language": "python",
   "name": "python3"
  },
  "language_info": {
   "codemirror_mode": {
    "name": "ipython",
    "version": 3
   },
   "file_extension": ".py",
   "mimetype": "text/x-python",
   "name": "python",
   "nbconvert_exporter": "python",
   "pygments_lexer": "ipython3",
   "version": "3.8.8"
  }
 },
 "nbformat": 4,
 "nbformat_minor": 5
}
